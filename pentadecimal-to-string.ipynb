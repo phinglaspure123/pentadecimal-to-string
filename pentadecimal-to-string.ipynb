{
 "cells": [
  {
   "cell_type": "code",
   "execution_count": 2,
   "metadata": {},
   "outputs": [
    {
     "name": "stdout",
     "output_type": "stream",
     "text": [
      "\n"
     ]
    }
   ],
   "source": [
    "def pentadecimal_to_string(pentadecimal_code):\n",
    "    # empty string to hold the final output\n",
    "    output_string = \"\"\n",
    "    \n",
    "    # Iterate over the pentaadecimal code two characters at a time (each pair represents one byte)\n",
    "    for i in range(0, len(pentadecimal_code),2):\n",
    "        # Extract a pair of pentadecimal digits\n",
    "        pent_pair = pentadecimal_code[i:i+2]\n",
    "        \n",
    "        # Convert the pentadecimal pair to an integer (base 15)\n",
    "        ascii_value = int(pent_pair, 15)\n",
    "        \n",
    "        # Convert the integer to a character and append it to the output string\n",
    "        output_string += chr(ascii_value)\n",
    "    \n",
    "    return output_string\n",
    "\n",
    "pentadecimal_code=\"\"\n",
    "print(pentadecimal_to_string(pentadecimal_code))"
   ]
  }
 ],
 "metadata": {
  "kernelspec": {
   "display_name": "Python 3",
   "language": "python",
   "name": "python3"
  },
  "language_info": {
   "codemirror_mode": {
    "name": "ipython",
    "version": 3
   },
   "file_extension": ".py",
   "mimetype": "text/x-python",
   "name": "python",
   "nbconvert_exporter": "python",
   "pygments_lexer": "ipython3",
   "version": "3.10.11"
  }
 },
 "nbformat": 4,
 "nbformat_minor": 2
}
