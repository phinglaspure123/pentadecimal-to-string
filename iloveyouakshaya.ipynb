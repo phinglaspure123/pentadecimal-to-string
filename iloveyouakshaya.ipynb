{
 "cells": [
  {
   "cell_type": "markdown",
   "metadata": {},
   "source": [
    "# Binary to string"
   ]
  },
  {
   "cell_type": "code",
   "execution_count": 28,
   "metadata": {},
   "outputs": [
    {
     "name": "stdout",
     "output_type": "stream",
     "text": [
      "You know i'm still open to idea of leetcode together, even if you have denied it before but i have always believed career first rather than anything ,so i am pitching it again to you, what if we do leetcode together ,ps:(i am just trying to connect with you on daily basis and not make you feel guilty) ,and also public growth is what matters today, so what if we do leetcode together and updated status anonymously, you tell me (linked, github,..) we could grow together as well as connect with each other, sleep over it and update me;\n",
      "i am sorry if this make you uncomfortable or angry\n"
     ]
    }
   ],
   "source": [
    "def binary_to_string(binary_code):\n",
    "    # Split the binary code into individual binary representations (8 bits each)\n",
    "    binary_chunks = binary_code.split()\n",
    "    \n",
    "    # Convert each binary chunk to its corresponding ASCII character\n",
    "    ascii_string = ''.join(chr(int(binary_chunk, 2)) for binary_chunk in binary_chunks)\n",
    "    \n",
    "    return ascii_string\n",
    "\n",
    "# Given binary code\n",
    "binary_code =  \"\"\"01011001 01101111 01110101 00100000 01101011 01101110 01101111 01110111 00100000 01101001 00100111 01101101 00100000 01110011 01110100 01101001 01101100 01101100 00100000 01101111 01110000 01100101 01101110 00100000 01110100 01101111 00100000 01101001 01100100 01100101 01100001 00100000 01101111 01100110 00100000 01101100 01100101 01100101 01110100 01100011 01101111 01100100 01100101 00100000 01110100 01101111 01100111 01100101 01110100 01101000 01100101 01110010 00101100 00100000 01100101 01110110 01100101 01101110 00100000 01101001 01100110 00100000 01111001 01101111 01110101 00100000 01101000 01100001 01110110 01100101 00100000 01100100 01100101 01101110 01101001 01100101 01100100 00100000 01101001 01110100 00100000 01100010 01100101 01100110 01101111 01110010 01100101 00100000 01100010 01110101 01110100 00100000 01101001 00100000 01101000 01100001 01110110 01100101 00100000 01100001 01101100 01110111 01100001 01111001 01110011 00100000 01100010 01100101 01101100 01101001 01100101 01110110 01100101 01100100 00100000 01100011 01100001 01110010 01100101 01100101 01110010 00100000 01100110 01101001 01110010 01110011 01110100 00100000 01110010 01100001 01110100 01101000 01100101 01110010 00100000 01110100 01101000 01100001 01101110 00100000 01100001 01101110 01111001 01110100 01101000 01101001 01101110 01100111 00100000 00101100 01110011 01101111 00100000 01101001 00100000 01100001 01101101 00100000 01110000 01101001 01110100 01100011 01101000 01101001 01101110 01100111 00100000 01101001 01110100 00100000 01100001 01100111 01100001 01101001 01101110 00100000 01110100 01101111 00100000 01111001 01101111 01110101 00101100 00100000 01110111 01101000 01100001 01110100 00100000 01101001 01100110 00100000 01110111 01100101 00100000 01100100 01101111 00100000 01101100 01100101 01100101 01110100 01100011 01101111 01100100 01100101 00100000 01110100 01101111 01100111 01100101 01110100 01101000 01100101 01110010 00100000 00101100 01110000 01110011 00111010 00101000 01101001 00100000 01100001 01101101 00100000 01101010 01110101 01110011 01110100 00100000 01110100 01110010 01111001 01101001 01101110 01100111 00100000 01110100 01101111 00100000 01100011 01101111 01101110 01101110 01100101 01100011 01110100 00100000 01110111 01101001 01110100 01101000 00100000 01111001 01101111 01110101 00100000 01101111 01101110 00100000 01100100 01100001 01101001 01101100 01111001 00100000 01100010 01100001 01110011 01101001 01110011 00100000 01100001 01101110 01100100 00100000 01101110 01101111 01110100 00100000 01101101 01100001 01101011 01100101 00100000 01111001 01101111 01110101 00100000 01100110 01100101 01100101 01101100 00100000 01100111 01110101 01101001 01101100 01110100 01111001 00101001 00100000 00101100 01100001 01101110 01100100 00100000 01100001 01101100 01110011 01101111 00100000 01110000 01110101 01100010 01101100 01101001 01100011 00100000 01100111 01110010 01101111 01110111 01110100 01101000 00100000 01101001 01110011 00100000 01110111 01101000 01100001 01110100 00100000 01101101 01100001 01110100 01110100 01100101 01110010 01110011 00100000 01110100 01101111 01100100 01100001 01111001 00101100 00100000 01110011 01101111 00100000 01110111 01101000 01100001 01110100 00100000 01101001 01100110 00100000 01110111 01100101 00100000 01100100 01101111 00100000 01101100 01100101 01100101 01110100 01100011 01101111 01100100 01100101 00100000 01110100 01101111 01100111 01100101 01110100 01101000 01100101 01110010 00100000 01100001 01101110 01100100 00100000 01110101 01110000 01100100 01100001 01110100 01100101 01100100 00100000 01110011 01110100 01100001 01110100 01110101 01110011 00100000 01100001 01101110 01101111 01101110 01111001 01101101 01101111 01110101 01110011 01101100 01111001 00101100 00100000 01111001 01101111 01110101 00100000 01110100 01100101 01101100 01101100 00100000 01101101 01100101 00100000 00101000 01101100 01101001 01101110 01101011 01100101 01100100 00101100 00100000 01100111 01101001 01110100 01101000 01110101 01100010 00101100 00101110 00101110 00101001 00100000 01110111 01100101 00100000 01100011 01101111 01110101 01101100 01100100 00100000 01100111 01110010 01101111 01110111 00100000 01110100 01101111 01100111 01100101 01110100 01101000 01100101 01110010 00100000 01100001 01110011 00100000 01110111 01100101 01101100 01101100 00100000 01100001 01110011 00100000 01100011 01101111 01101110 01101110 01100101 01100011 01110100 00100000 01110111 01101001 01110100 01101000 00100000 01100101 01100001 01100011 01101000 00100000 01101111 01110100 01101000 01100101 01110010 00101100 00100000 01110011 01101100 01100101 01100101 01110000 00100000 01101111 01110110 01100101 01110010 00100000 01101001 01110100 00100000 01100001 01101110 01100100 00100000 01110101 01110000 01100100 01100001 01110100 01100101 00100000 01101101 01100101 00111011 00001010 01101001 00100000 01100001 01101101 00100000 01110011 01101111 01110010 01110010 01111001 00100000 01101001 01100110 00100000 01110100 01101000 01101001 01110011 00100000 01101101 01100001 01101011 01100101 00100000 01111001 01101111 01110101 00100000 01110101 01101110 01100011 01101111 01101101 01100110 01101111 01110010 01110100 01100001 01100010 01101100 01100101 00100000 01101111 01110010 00100000 01100001 01101110 01100111 01110010 01111001\n",
    "\"\"\"\n",
    "\n",
    "# Convert the binary code to ASCII text\n",
    "ascii_string = binary_to_string(binary_code)\n",
    "\n",
    "# Print the ASCII text\n",
    "print(ascii_string)\n"
   ]
  },
  {
   "cell_type": "markdown",
   "metadata": {},
   "source": [
    "# Pentadecimal to string"
   ]
  },
  {
   "cell_type": "code",
   "execution_count": 30,
   "metadata": {},
   "outputs": [
    {
     "name": "stdout",
     "output_type": "stream",
     "text": [
      "The hexadecimal representation of 'hello akshaya' is: 68656c6c6f20616b7368617961\n"
     ]
    }
   ],
   "source": [
    "def string_to_hexadecimal(input_string):\n",
    "    # Initialize an empty list to hold the hexadecimal values\n",
    "    hex_list = []\n",
    "    \n",
    "    # Convert each character in the string to its ASCII value\n",
    "    for char in input_string:\n",
    "        # Convert the ASCII value to hexadecimal and format it as a two-digit hex number\n",
    "        hex_value = format(ord(char), '02x')\n",
    "        # Add the hexadecimal value to the list\n",
    "        hex_list.append(hex_value)\n",
    "    \n",
    "    # Join the list of hexadecimal values to form the final hexadecimal representation\n",
    "    hexadecimal_string = ''.join(hex_list)\n",
    "    \n",
    "    return hexadecimal_string\n",
    "\n",
    "# Test the function with the string \"hello\"\n",
    "input_string = \"hello akshaya\"\n",
    "hexadecimal_string = string_to_hexadecimal(input_string)\n",
    "print(f\"The hexadecimal representation of '{input_string}' is: {hexadecimal_string}\")\n"
   ]
  },
  {
   "cell_type": "code",
   "execution_count": 187,
   "metadata": {},
   "outputs": [
    {
     "name": "stdout",
     "output_type": "stream",
     "text": [
      "6E67746B7A6E67226A6B7922726779226A6B7B67226E76767522746770753EAA8267797676796B6B226867677B2272676E67756B6B226E763EAA727670227D67676A67227570686E67677567226E763EAA7B7C746E6B2267677D676782226A6B756B6B226E763EAA7B7C746E6B227D676777677A22687C7367677567226E763EAA6E67786B6B78677B22677C79227B6E7022727C696E6E227B7C7422727622816B2268677B67677567226E763EAA6E67746B7A6E67226A6B7922726779226A6B7B67226E76767522746770753EA\n"
     ]
    }
   ],
   "source": [
    "def int_to_pentadecimal(integer_value):\n",
    "    # Define the base-15 digit set (0-9 and A-E)\n",
    "    base_15_digits = \"0123456789ABCDE\"\n",
    "    \n",
    "    # Initialize an empty list to hold the base-15 digits\n",
    "    base_15_list = []\n",
    "    \n",
    "    # Convert the integer to base-15\n",
    "    while integer_value > 0:\n",
    "        # Calculate the remainder when dividing by 15\n",
    "        remainder = integer_value % 15\n",
    "        # Add the base-15 digit to the list\n",
    "        base_15_list.append(base_15_digits[remainder])\n",
    "        # Divide the integer by 15 for the next digit\n",
    "        integer_value //= 15\n",
    "    \n",
    "    # Reverse the list to get the base-15 digits in the correct order\n",
    "    base_15_list.reverse()\n",
    "    \n",
    "    # Join the base-15 digits to form the final pentadecimal string\n",
    "    pentadecimal_string = ''.join(base_15_list)\n",
    "    \n",
    "    return pentadecimal_string\n",
    "\n",
    "# Example usage\n",
    "input_string =\"\"\"hamesha der kar deta hoon main;\\n\n",
    "zarooree baat kahanee ho;\\n\n",
    "koi vaada nibhaana ho;\\n\n",
    "tumhe aavaaz denee ho;\\n\n",
    "tumhe vaapas bulaana ho;\\n\n",
    "haqeeqat aur thi kuchh tum ko ye bataana ho;\\n\n",
    "hamesha der kar deta hoon main;\\n\"\"\"\n",
    "\n",
    "list_penta=[]\n",
    "for char in input_string:\n",
    "    penta_decimal=ord(char)\n",
    "    pentadecimal_value = int_to_pentadecimal(penta_decimal)\n",
    "    list_penta.append(pentadecimal_value)\n",
    "    # print(pentadecimal_value)\n",
    "print(\"\".join(list_penta))"
   ]
  },
  {
   "cell_type": "code",
   "execution_count": 190,
   "metadata": {},
   "outputs": [
    {
     "name": "stdout",
     "output_type": "stream",
     "text": [
      "hamesha der kar deta hoon main; zarooree baat kahanee ho; koi vaada nibhaana ho; tumhe aavaaz denee ho; tumhe vaapas bulaana ho; haqeeqat aur thi kuchh tum ko ye bataana ho; hamesha der kar deta hoon main;\n",
      "\n"
     ]
    }
   ],
   "source": [
    "def pentadecimal_to_string(pentadecimal_code):\n",
    "    # empty string to hold the final output\n",
    "    # pentadecimal_code=pentadecimal_code.replace(\" \",\"\")\n",
    "    output_string = \"\"\n",
    "    \n",
    "    # Iterate over the pentaadecimal code two characters at a time (each pair represents one byte)\n",
    "    for i in range(0, len(pentadecimal_code),2):\n",
    "        # Extract a pair of pentadecimal digits\n",
    "        pent_pair = pentadecimal_code[i:i+2]\n",
    "        \n",
    "        # Convert the pentadecimal pair to an integer (base 15)\n",
    "        ascii_value = int(pent_pair, 15)\n",
    "        \n",
    "        # Convert the integer to a character and append it to the output string\n",
    "        output_string += chr(ascii_value)\n",
    "    \n",
    "    return output_string\n",
    "\n",
    "pentadecimal_code=\"6E67746B7A6E67226A6B7922726779226A6B7B67226E76767522746770753EAA8267797676796B6B226867677B2272676E67756B6B226E763EAA727670227D67676A67227570686E67677567226E763EAA7B7C746E6B2267677D676782226A6B756B6B226E763EAA7B7C746E6B227D676777677A22687C7367677567226E763EAA6E67786B6B78677B22677C79227B6E7022727C696E6E227B7C7422727622816B2268677B67677567226E763EAA6E67746B7A6E67226A6B7922726779226A6B7B67226E76767522746770753EA\"\n",
    "print(pentadecimal_to_string(pentadecimal_code))"
   ]
  }
 ],
 "metadata": {
  "kernelspec": {
   "display_name": "Python 3",
   "language": "python",
   "name": "python3"
  },
  "language_info": {
   "codemirror_mode": {
    "name": "ipython",
    "version": 3
   },
   "file_extension": ".py",
   "mimetype": "text/x-python",
   "name": "python",
   "nbconvert_exporter": "python",
   "pygments_lexer": "ipython3",
   "version": "3.10.11"
  }
 },
 "nbformat": 4,
 "nbformat_minor": 2
}
